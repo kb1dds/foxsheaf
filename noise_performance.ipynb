{
 "cells": [
  {
   "cell_type": "markdown",
   "metadata": {},
   "source": [
    "# Measure noise performance of sheaf-based transmitter locating\n",
    "(c) 2019 Michael Robinson"
   ]
  },
  {
   "cell_type": "code",
   "execution_count": 1,
   "metadata": {},
   "outputs": [],
   "source": [
    "from generate_data import *\n",
    "import fox_sheaf as fs\n",
    "import numpy as np\n",
    "import pysheaf as ps\n",
    "import matplotlib.pyplot as plt\n",
    "import copy"
   ]
  },
  {
   "cell_type": "markdown",
   "metadata": {},
   "source": [
    "Basic simulation parameters"
   ]
  },
  {
   "cell_type": "code",
   "execution_count": 2,
   "metadata": {},
   "outputs": [],
   "source": [
    "ntrials=5 # Number of trials to run for data\n",
    "\n",
    "noise_devs=np.linspace(0.00000001,0.01,20) # Noise deviation\n",
    "angle_devs=np.linspace(0.01,10.0,20) # Angle deviation (degrees)"
   ]
  },
  {
   "cell_type": "markdown",
   "metadata": {},
   "source": [
    "Transmitter is in a fixed location, along with three receivers, also at fixed locations.  Note that we do not yet generate `Receiver` instances for the receivers.  We'll do that later!"
   ]
  },
  {
   "cell_type": "code",
   "execution_count": 3,
   "metadata": {},
   "outputs": [],
   "source": [
    "txA=Transmitter(location=np.array([0.5,0.5]),power=1.0,identity='A')\n",
    "\n",
    "rx1_location=np.array([1.0,0.0])\n",
    "rx2_location=np.array([1.0,1.0])\n",
    "rx3_location=np.array([0.0,0.0])\n",
    "rx4_location=np.array([0.0,0.5])\n",
    "rx_types=['bearing','bearing','rssi','rssi']"
   ]
  },
  {
   "cell_type": "markdown",
   "metadata": {},
   "source": [
    "## Performance under simulated noisy RSSI measurements\n",
    "We'll build a fresh set of receivers for each trial of the simulation.  As a result, we also build a fresh sheaf for each trial."
   ]
  },
  {
   "cell_type": "markdown",
   "metadata": {},
   "source": [
    "Preallocate arrays to store the results of all trials"
   ]
  },
  {
   "cell_type": "code",
   "execution_count": 4,
   "metadata": {},
   "outputs": [],
   "source": [
    "crs_noise_post=np.zeros([len(noise_devs),ntrials])\n",
    "nn=np.zeros([len(noise_devs),ntrials])\n",
    "errors_noise_extended=np.zeros([len(noise_devs),ntrials])"
   ]
  },
  {
   "cell_type": "markdown",
   "metadata": {},
   "source": [
    "Run the simulation!"
   ]
  },
  {
   "cell_type": "code",
   "execution_count": 5,
   "metadata": {},
   "outputs": [
    {
     "name": "stdout",
     "output_type": "stream",
     "text": [
      "0 % complete: Trial 1 of 5, noise 1 of 20\n",
      "0 % complete: Trial 2 of 5, noise 1 of 20\n",
      "1 % complete: Trial 3 of 5, noise 1 of 20\n",
      "1 % complete: Trial 4 of 5, noise 1 of 20\n",
      "2 % complete: Trial 5 of 5, noise 1 of 20\n",
      "2 % complete: Trial 1 of 5, noise 2 of 20\n",
      "3 % complete: Trial 2 of 5, noise 2 of 20\n",
      "3 % complete: Trial 3 of 5, noise 2 of 20\n",
      "4 % complete: Trial 4 of 5, noise 2 of 20\n",
      "4 % complete: Trial 5 of 5, noise 2 of 20\n",
      "5 % complete: Trial 1 of 5, noise 3 of 20\n",
      "5 % complete: Trial 2 of 5, noise 3 of 20\n",
      "6 % complete: Trial 3 of 5, noise 3 of 20\n",
      "6 % complete: Trial 4 of 5, noise 3 of 20\n",
      "7 % complete: Trial 5 of 5, noise 3 of 20\n",
      "7 % complete: Trial 1 of 5, noise 4 of 20\n",
      "8 % complete: Trial 2 of 5, noise 4 of 20\n",
      "8 % complete: Trial 3 of 5, noise 4 of 20\n",
      "9 % complete: Trial 4 of 5, noise 4 of 20\n",
      "9 % complete: Trial 5 of 5, noise 4 of 20\n",
      "10 % complete: Trial 1 of 5, noise 5 of 20\n",
      "10 % complete: Trial 2 of 5, noise 5 of 20\n",
      "11 % complete: Trial 3 of 5, noise 5 of 20\n",
      "11 % complete: Trial 4 of 5, noise 5 of 20\n",
      "12 % complete: Trial 5 of 5, noise 5 of 20\n",
      "12 % complete: Trial 1 of 5, noise 6 of 20\n",
      "13 % complete: Trial 2 of 5, noise 6 of 20\n",
      "13 % complete: Trial 3 of 5, noise 6 of 20\n",
      "14 % complete: Trial 4 of 5, noise 6 of 20\n",
      "14 % complete: Trial 5 of 5, noise 6 of 20\n",
      "15 % complete: Trial 1 of 5, noise 7 of 20\n",
      "15 % complete: Trial 2 of 5, noise 7 of 20\n",
      "16 % complete: Trial 3 of 5, noise 7 of 20\n",
      "16 % complete: Trial 4 of 5, noise 7 of 20\n",
      "17 % complete: Trial 5 of 5, noise 7 of 20\n",
      "17 % complete: Trial 1 of 5, noise 8 of 20\n",
      "18 % complete: Trial 2 of 5, noise 8 of 20\n",
      "18 % complete: Trial 3 of 5, noise 8 of 20\n",
      "19 % complete: Trial 4 of 5, noise 8 of 20\n",
      "19 % complete: Trial 5 of 5, noise 8 of 20\n",
      "20 % complete: Trial 1 of 5, noise 9 of 20\n",
      "20 % complete: Trial 2 of 5, noise 9 of 20\n",
      "21 % complete: Trial 3 of 5, noise 9 of 20\n",
      "21 % complete: Trial 4 of 5, noise 9 of 20\n",
      "22 % complete: Trial 5 of 5, noise 9 of 20\n",
      "22 % complete: Trial 1 of 5, noise 10 of 20\n",
      "23 % complete: Trial 2 of 5, noise 10 of 20\n",
      "23 % complete: Trial 3 of 5, noise 10 of 20\n",
      "24 % complete: Trial 4 of 5, noise 10 of 20\n",
      "24 % complete: Trial 5 of 5, noise 10 of 20\n",
      "25 % complete: Trial 1 of 5, noise 11 of 20\n",
      "25 % complete: Trial 2 of 5, noise 11 of 20\n",
      "26 % complete: Trial 3 of 5, noise 11 of 20\n",
      "26 % complete: Trial 4 of 5, noise 11 of 20\n",
      "27 % complete: Trial 5 of 5, noise 11 of 20\n",
      "27 % complete: Trial 1 of 5, noise 12 of 20\n",
      "28 % complete: Trial 2 of 5, noise 12 of 20\n",
      "28 % complete: Trial 3 of 5, noise 12 of 20\n",
      "28 % complete: Trial 4 of 5, noise 12 of 20\n",
      "29 % complete: Trial 5 of 5, noise 12 of 20\n",
      "30 % complete: Trial 1 of 5, noise 13 of 20\n",
      "30 % complete: Trial 2 of 5, noise 13 of 20\n",
      "31 % complete: Trial 3 of 5, noise 13 of 20\n",
      "31 % complete: Trial 4 of 5, noise 13 of 20\n",
      "32 % complete: Trial 5 of 5, noise 13 of 20\n",
      "32 % complete: Trial 1 of 5, noise 14 of 20\n",
      "33 % complete: Trial 2 of 5, noise 14 of 20\n",
      "33 % complete: Trial 3 of 5, noise 14 of 20\n",
      "34 % complete: Trial 4 of 5, noise 14 of 20\n",
      "34 % complete: Trial 5 of 5, noise 14 of 20\n",
      "35 % complete: Trial 1 of 5, noise 15 of 20\n",
      "35 % complete: Trial 2 of 5, noise 15 of 20\n",
      "36 % complete: Trial 3 of 5, noise 15 of 20\n",
      "36 % complete: Trial 4 of 5, noise 15 of 20\n",
      "37 % complete: Trial 5 of 5, noise 15 of 20\n",
      "37 % complete: Trial 1 of 5, noise 16 of 20\n",
      "38 % complete: Trial 2 of 5, noise 16 of 20\n",
      "38 % complete: Trial 3 of 5, noise 16 of 20\n",
      "39 % complete: Trial 4 of 5, noise 16 of 20\n",
      "39 % complete: Trial 5 of 5, noise 16 of 20\n",
      "40 % complete: Trial 1 of 5, noise 17 of 20\n",
      "40 % complete: Trial 2 of 5, noise 17 of 20\n",
      "41 % complete: Trial 3 of 5, noise 17 of 20\n",
      "41 % complete: Trial 4 of 5, noise 17 of 20\n",
      "42 % complete: Trial 5 of 5, noise 17 of 20\n",
      "42 % complete: Trial 1 of 5, noise 18 of 20\n",
      "43 % complete: Trial 2 of 5, noise 18 of 20\n",
      "43 % complete: Trial 3 of 5, noise 18 of 20\n",
      "44 % complete: Trial 4 of 5, noise 18 of 20\n",
      "44 % complete: Trial 5 of 5, noise 18 of 20\n",
      "45 % complete: Trial 1 of 5, noise 19 of 20\n",
      "45 % complete: Trial 2 of 5, noise 19 of 20\n",
      "46 % complete: Trial 3 of 5, noise 19 of 20\n",
      "46 % complete: Trial 4 of 5, noise 19 of 20\n",
      "47 % complete: Trial 5 of 5, noise 19 of 20\n",
      "47 % complete: Trial 1 of 5, noise 20 of 20\n",
      "48 % complete: Trial 2 of 5, noise 20 of 20\n",
      "48 % complete: Trial 3 of 5, noise 20 of 20\n",
      "49 % complete: Trial 4 of 5, noise 20 of 20\n",
      "49 % complete: Trial 5 of 5, noise 20 of 20\n"
     ]
    }
   ],
   "source": [
    "for k in range(nn.shape[0]):\n",
    "    noise_dev=noise_devs[k]\n",
    "    for m in range(nn.shape[1]):\n",
    "        print('{} % complete: Trial {} of {}, noise {} of {}'.format(int(100*((m+k*nn.shape[1])/(ntrials*(len(noise_devs)+len(angle_devs))))),m+1,nn.shape[1],k+1,nn.shape[0]))\n",
    "        \n",
    "        nn[k,m]=noise_dev\n",
    "        \n",
    "        # Case 1\n",
    "        rx1=Receiver(rx_noise_level=noise_dev,rx_antenna_beamwidth=angle_devs[0])\n",
    "        rx1.name='1'\n",
    "        rx1.add_reception(time=0.0,location=rx1_location,transmitter=txA)\n",
    "        \n",
    "        rx2=Receiver(rx_noise_level=noise_dev,rx_antenna_beamwidth=angle_devs[0])\n",
    "        rx2.name='2'\n",
    "        rx2.add_reception(time=0.0,location=rx2_location,transmitter=txA)\n",
    "        \n",
    "        rx3=Receiver(rx_noise_level=noise_dev,rx_antenna_beamwidth=angle_devs[0])\n",
    "        rx3.name='3'\n",
    "        rx3.add_reception(time=0.0,location=rx3_location,transmitter=txA)\n",
    "        \n",
    "        rx4=Receiver(rx_noise_level=noise_dev,rx_antenna_beamwidth=angle_devs[0])\n",
    "        rx4.name='4'\n",
    "        rx4.add_reception(time=0.0,location=rx4_location,transmitter=txA)\n",
    "\n",
    "        rxs=[rx1,rx2,rx3,rx4]\n",
    "        \n",
    "        sheaf=fs.FoxSheaf(rx_types,rxs)\n",
    "        \n",
    "        sheaf.FuseAssignment()\n",
    "\n",
    "        # Record the consistency radius\n",
    "        crs_noise_post[k,m]=sheaf.ComputeConsistencyRadius()\n",
    "        \n",
    "        # Record the error in fox location\n",
    "        errors_noise_extended[k,m]=np.linalg.norm(sheaf.GetCell(1).mDataAssignment.mValue-txA.location)"
   ]
  },
  {
   "cell_type": "markdown",
   "metadata": {},
   "source": [
    "Plot the consistency radius"
   ]
  },
  {
   "cell_type": "code",
   "execution_count": 6,
   "metadata": {},
   "outputs": [
    {
     "data": {
      "text/plain": [
       "Text(0.5, 1.0, 'Noise-induced inconsistency')"
      ]
     },
     "execution_count": 6,
     "metadata": {},
     "output_type": "execute_result"
    },
    {
     "data": {
      "image/png": "[encoded data removed]",
      "text/plain": [
       "<Figure size 432x288 with 1 Axes>"
      ]
     },
     "metadata": {
      "needs_background": "light"
     },
     "output_type": "display_data"
    }
   ],
   "source": [
    "maxcr=0.1\n",
    "plt.figure()\n",
    "plt.plot(nn.flatten(),crs_noise_post.flatten(),'.',markersize=10)\n",
    "plt.ylim([0,maxcr])\n",
    "plt.xlabel('Noise deviation')\n",
    "plt.ylabel('Consistency radius')\n",
    "plt.title('Noise-induced inconsistency')"
   ]
  },
  {
   "cell_type": "markdown",
   "metadata": {},
   "source": [
    "Plot the fox location error"
   ]
  },
  {
   "cell_type": "code",
   "execution_count": 7,
   "metadata": {},
   "outputs": [
    {
     "data": {
      "text/plain": [
       "Text(0.5, 1.0, 'Location errors after filtering')"
      ]
     },
     "execution_count": 7,
     "metadata": {},
     "output_type": "execute_result"
    },
    {
     "data": {
      "image/png": "[encoded data removed]",
      "text/plain": [
       "<Figure size 432x288 with 1 Axes>"
      ]
     },
     "metadata": {
      "needs_background": "light"
     },
     "output_type": "display_data"
    }
   ],
   "source": [
    "plt.figure()\n",
    "plt.plot(nn.flatten(),errors_noise_extended.flatten(),'g^',markersize=10)\n",
    "plt.ylim([0,2])\n",
    "plt.xlabel('Noise deviation')\n",
    "plt.ylabel('Location error')\n",
    "plt.title('Location errors after filtering')"
   ]
  },
  {
   "cell_type": "markdown",
   "metadata": {},
   "source": [
    "## Performance under simulated noisy bearing measurements\n",
    "The RSSI measurements are without noise, and this goes much as above!"
   ]
  },
  {
   "cell_type": "markdown",
   "metadata": {},
   "source": [
    "Preallocate arrays for the results"
   ]
  },
  {
   "cell_type": "code",
   "execution_count": 8,
   "metadata": {},
   "outputs": [],
   "source": [
    "crs_angle_post=np.zeros([len(angle_devs),ntrials])\n",
    "aa=np.zeros([len(angle_devs),ntrials])\n",
    "errors_angle_extended=np.zeros([len(noise_devs),ntrials])"
   ]
  },
  {
   "cell_type": "markdown",
   "metadata": {},
   "source": [
    "Run the simulation"
   ]
  },
  {
   "cell_type": "code",
   "execution_count": 9,
   "metadata": {},
   "outputs": [
    {
     "name": "stdout",
     "output_type": "stream",
     "text": [
      "50 % complete: Trial 1 of 5, angle 1 of 20\n",
      "50 % complete: Trial 2 of 5, angle 1 of 20\n",
      "51 % complete: Trial 3 of 5, angle 1 of 20\n",
      "51 % complete: Trial 4 of 5, angle 1 of 20\n",
      "52 % complete: Trial 5 of 5, angle 1 of 20\n",
      "52 % complete: Trial 1 of 5, angle 2 of 20\n",
      "53 % complete: Trial 2 of 5, angle 2 of 20\n",
      "53 % complete: Trial 3 of 5, angle 2 of 20\n",
      "54 % complete: Trial 4 of 5, angle 2 of 20\n",
      "54 % complete: Trial 5 of 5, angle 2 of 20\n",
      "55 % complete: Trial 1 of 5, angle 3 of 20\n",
      "55 % complete: Trial 2 of 5, angle 3 of 20\n",
      "56 % complete: Trial 3 of 5, angle 3 of 20\n",
      "56 % complete: Trial 4 of 5, angle 3 of 20\n",
      "56 % complete: Trial 5 of 5, angle 3 of 20\n",
      "57 % complete: Trial 1 of 5, angle 4 of 20\n",
      "57 % complete: Trial 2 of 5, angle 4 of 20\n",
      "58 % complete: Trial 3 of 5, angle 4 of 20\n",
      "59 % complete: Trial 4 of 5, angle 4 of 20\n",
      "59 % complete: Trial 5 of 5, angle 4 of 20\n",
      "60 % complete: Trial 1 of 5, angle 5 of 20\n",
      "60 % complete: Trial 2 of 5, angle 5 of 20\n",
      "61 % complete: Trial 3 of 5, angle 5 of 20\n",
      "61 % complete: Trial 4 of 5, angle 5 of 20\n",
      "62 % complete: Trial 5 of 5, angle 5 of 20\n",
      "62 % complete: Trial 1 of 5, angle 6 of 20\n",
      "63 % complete: Trial 2 of 5, angle 6 of 20\n",
      "63 % complete: Trial 3 of 5, angle 6 of 20\n",
      "64 % complete: Trial 4 of 5, angle 6 of 20\n",
      "64 % complete: Trial 5 of 5, angle 6 of 20\n",
      "65 % complete: Trial 1 of 5, angle 7 of 20\n",
      "65 % complete: Trial 2 of 5, angle 7 of 20\n",
      "66 % complete: Trial 3 of 5, angle 7 of 20\n",
      "66 % complete: Trial 4 of 5, angle 7 of 20\n",
      "67 % complete: Trial 5 of 5, angle 7 of 20\n",
      "67 % complete: Trial 1 of 5, angle 8 of 20\n",
      "68 % complete: Trial 2 of 5, angle 8 of 20\n",
      "68 % complete: Trial 3 of 5, angle 8 of 20\n",
      "69 % complete: Trial 4 of 5, angle 8 of 20\n",
      "69 % complete: Trial 5 of 5, angle 8 of 20\n",
      "70 % complete: Trial 1 of 5, angle 9 of 20\n",
      "70 % complete: Trial 2 of 5, angle 9 of 20\n",
      "71 % complete: Trial 3 of 5, angle 9 of 20\n",
      "71 % complete: Trial 4 of 5, angle 9 of 20\n",
      "72 % complete: Trial 5 of 5, angle 9 of 20\n",
      "72 % complete: Trial 1 of 5, angle 10 of 20\n",
      "73 % complete: Trial 2 of 5, angle 10 of 20\n",
      "73 % complete: Trial 3 of 5, angle 10 of 20\n",
      "74 % complete: Trial 4 of 5, angle 10 of 20\n",
      "74 % complete: Trial 5 of 5, angle 10 of 20\n",
      "75 % complete: Trial 1 of 5, angle 11 of 20\n",
      "75 % complete: Trial 2 of 5, angle 11 of 20\n",
      "76 % complete: Trial 3 of 5, angle 11 of 20\n",
      "76 % complete: Trial 4 of 5, angle 11 of 20\n",
      "77 % complete: Trial 5 of 5, angle 11 of 20\n",
      "77 % complete: Trial 1 of 5, angle 12 of 20\n",
      "78 % complete: Trial 2 of 5, angle 12 of 20\n",
      "78 % complete: Trial 3 of 5, angle 12 of 20\n",
      "79 % complete: Trial 4 of 5, angle 12 of 20\n",
      "79 % complete: Trial 5 of 5, angle 12 of 20\n",
      "80 % complete: Trial 1 of 5, angle 13 of 20\n",
      "80 % complete: Trial 2 of 5, angle 13 of 20\n",
      "81 % complete: Trial 3 of 5, angle 13 of 20\n",
      "81 % complete: Trial 4 of 5, angle 13 of 20\n",
      "82 % complete: Trial 5 of 5, angle 13 of 20\n",
      "82 % complete: Trial 1 of 5, angle 14 of 20\n",
      "83 % complete: Trial 2 of 5, angle 14 of 20\n",
      "83 % complete: Trial 3 of 5, angle 14 of 20\n",
      "84 % complete: Trial 4 of 5, angle 14 of 20\n",
      "84 % complete: Trial 5 of 5, angle 14 of 20\n",
      "85 % complete: Trial 1 of 5, angle 15 of 20\n",
      "85 % complete: Trial 2 of 5, angle 15 of 20\n",
      "86 % complete: Trial 3 of 5, angle 15 of 20\n",
      "86 % complete: Trial 4 of 5, angle 15 of 20\n",
      "87 % complete: Trial 5 of 5, angle 15 of 20\n",
      "87 % complete: Trial 1 of 5, angle 16 of 20\n",
      "88 % complete: Trial 2 of 5, angle 16 of 20\n",
      "88 % complete: Trial 3 of 5, angle 16 of 20\n",
      "89 % complete: Trial 4 of 5, angle 16 of 20\n",
      "89 % complete: Trial 5 of 5, angle 16 of 20\n",
      "90 % complete: Trial 1 of 5, angle 17 of 20\n",
      "90 % complete: Trial 2 of 5, angle 17 of 20\n",
      "91 % complete: Trial 3 of 5, angle 17 of 20\n",
      "91 % complete: Trial 4 of 5, angle 17 of 20\n",
      "92 % complete: Trial 5 of 5, angle 17 of 20\n",
      "92 % complete: Trial 1 of 5, angle 18 of 20\n",
      "93 % complete: Trial 2 of 5, angle 18 of 20\n",
      "93 % complete: Trial 3 of 5, angle 18 of 20\n",
      "94 % complete: Trial 4 of 5, angle 18 of 20\n",
      "94 % complete: Trial 5 of 5, angle 18 of 20\n",
      "95 % complete: Trial 1 of 5, angle 19 of 20\n",
      "95 % complete: Trial 2 of 5, angle 19 of 20\n",
      "96 % complete: Trial 3 of 5, angle 19 of 20\n",
      "96 % complete: Trial 4 of 5, angle 19 of 20\n",
      "97 % complete: Trial 5 of 5, angle 19 of 20\n",
      "97 % complete: Trial 1 of 5, angle 20 of 20\n",
      "98 % complete: Trial 2 of 5, angle 20 of 20\n",
      "98 % complete: Trial 3 of 5, angle 20 of 20\n",
      "99 % complete: Trial 4 of 5, angle 20 of 20\n",
      "99 % complete: Trial 5 of 5, angle 20 of 20\n"
     ]
    }
   ],
   "source": [
    "for k in range(aa.shape[0]):\n",
    "    angle_dev=angle_devs[k]\n",
    "    for m in range(aa.shape[1]):\n",
    "\n",
    "        print('{} % complete: Trial {} of {}, angle {} of {}'.format(int(100*((m+k*aa.shape[1]+ntrials*len(noise_devs))/(ntrials*(len(noise_devs)+len(angle_devs))))),m+1,aa.shape[1],k+1,aa.shape[0]))\n",
    "        \n",
    "        aa[k,m]=angle_dev\n",
    "        # Case 1\n",
    "        rx1=Receiver(rx_antenna_beamwidth=angle_dev)\n",
    "        rx1.name='1'\n",
    "        rx1.add_reception(time=0.0,location=rx1_location,transmitter=txA)\n",
    "        \n",
    "        rx2=Receiver(rx_antenna_beamwidth=angle_dev)\n",
    "        rx2.name='2'\n",
    "        rx2.add_reception(time=0.0,location=rx2_location,transmitter=txA)\n",
    "        \n",
    "        rx3=Receiver(rx_antenna_beamwidth=angle_dev)\n",
    "        rx3.name='3'\n",
    "        rx3.add_reception(time=0.0,location=rx3_location,transmitter=txA)\n",
    "        \n",
    "        rx4=Receiver(rx_antenna_beamwidth=angle_dev)\n",
    "        rx4.name='4'\n",
    "        rx4.add_reception(time=0.0,location=rx4_location,transmitter=txA)\n",
    "        \n",
    "        rxs=[rx1,rx2,rx3,rx4]\n",
    "        \n",
    "        sheaf=fs.FoxSheaf(rx_types,rxs)\n",
    "        \n",
    "        sheaf.FuseAssignment()\n",
    "\n",
    "        # Record the consistency radius\n",
    "        crs_angle_post[k,m]=sheaf.ComputeConsistencyRadius()\n",
    "        \n",
    "        # Record the error in fox location\n",
    "        errors_angle_extended[k,m]=np.linalg.norm(sheaf.GetCell(1).mDataAssignment.mValue-txA.location)"
   ]
  },
  {
   "cell_type": "markdown",
   "metadata": {},
   "source": [
    "Plot the consistency radii"
   ]
  },
  {
   "cell_type": "code",
   "execution_count": 10,
   "metadata": {},
   "outputs": [
    {
     "data": {
      "text/plain": [
       "Text(0.5, 1.0, 'Angle-induced inconsistency')"
      ]
     },
     "execution_count": 10,
     "metadata": {},
     "output_type": "execute_result"
    },
    {
     "data": {
      "image/png": "[encoded data removed]",
      "text/plain": [
       "<Figure size 432x288 with 1 Axes>"
      ]
     },
     "metadata": {
      "needs_background": "light"
     },
     "output_type": "display_data"
    }
   ],
   "source": [
    "plt.figure()\n",
    "plt.plot(aa.flatten(),crs_angle_post.flatten(),'.',markersize=10)\n",
    "plt.ylim([0,maxcr])\n",
    "plt.xlabel('Angle deviation (deg)')\n",
    "plt.ylabel('Consistency radius')\n",
    "plt.title('Angle-induced inconsistency')"
   ]
  },
  {
   "cell_type": "markdown",
   "metadata": {},
   "source": [
    "Plot the fox location errors"
   ]
  },
  {
   "cell_type": "code",
   "execution_count": 11,
   "metadata": {},
   "outputs": [
    {
     "data": {
      "text/plain": [
       "Text(0.5, 1.0, 'Location errors after filtering')"
      ]
     },
     "execution_count": 11,
     "metadata": {},
     "output_type": "execute_result"
    },
    {
     "data": {
      "image/png": "[encoded data removed]",
      "text/plain": [
       "<Figure size 432x288 with 1 Axes>"
      ]
     },
     "metadata": {
      "needs_background": "light"
     },
     "output_type": "display_data"
    }
   ],
   "source": [
    "plt.figure()\n",
    "plt.plot(aa.flatten(),errors_angle_extended.flatten(),'g^',markersize=10)\n",
    "plt.ylim([0,2])\n",
    "plt.xlabel('Angle deviation (deg)')\n",
    "plt.ylabel('Location error')\n",
    "plt.title('Location errors after filtering')"
   ]
  }
 ],
 "metadata": {
  "kernelspec": {
   "display_name": "Python 3",
   "language": "python",
   "name": "python3"
  },
  "language_info": {
   "codemirror_mode": {
    "name": "ipython",
    "version": 3
   },
   "file_extension": ".py",
   "mimetype": "text/x-python",
   "name": "python",
   "nbconvert_exporter": "python",
   "pygments_lexer": "ipython3",
   "version": "3.5.2"
  }
 },
 "nbformat": 4,
 "nbformat_minor": 2
}
