{
 "cells": [
  {
   "cell_type": "markdown",
   "metadata": {},
   "source": [
    "# Consistency filtrations of fox hunting sheaves\n",
    "(c) 2019 Michael Robinson"
   ]
  },
  {
   "cell_type": "code",
   "execution_count": 1,
   "metadata": {},
   "outputs": [],
   "source": [
    "from generate_data import *\n",
    "import fox_sheaf as fs\n",
    "import numpy as np\n",
    "import pysheaf as ps\n",
    "import matplotlib.pyplot as plt\n",
    "import copy\n",
    "import networkx as nx"
   ]
  },
  {
   "cell_type": "markdown",
   "metadata": {},
   "source": [
    "Set up transmitter and receiver data"
   ]
  },
  {
   "cell_type": "code",
   "execution_count": 2,
   "metadata": {},
   "outputs": [],
   "source": [
    "txA=Transmitter(location=np.array([0.5,0.5]),power=1.0,identity='A')\n",
    "txB=Transmitter(location=np.array([0.5,1]),power=1.0,identity='B')\n",
    "\n",
    "rx1_location=np.array([1.0,0.0])\n",
    "rx2_location=np.array([1.0,1.0])\n",
    "rx3_location=np.array([0.0,0.0])\n",
    "rx4_location=np.array([0.0,0.5])\n",
    "rx_types=['bearing','bearing','rssi','rssi']"
   ]
  },
  {
   "cell_type": "markdown",
   "metadata": {},
   "source": [
    "Construct the sheaf for the case where receivers 1, 2, and 4 receive transmitter B while receiver 3 receives transmitter A"
   ]
  },
  {
   "cell_type": "code",
   "execution_count": 3,
   "metadata": {},
   "outputs": [],
   "source": [
    "rx1=Receiver()\n",
    "rx1.name='1'\n",
    "rx1.add_reception(time=0.0,location=rx1_location,transmitter=txB)\n",
    "\n",
    "rx2=Receiver()\n",
    "rx2.name='2'\n",
    "rx2.add_reception(time=0.0,location=rx2_location,transmitter=txB)\n",
    "\n",
    "rx3=Receiver()\n",
    "rx3.name='3'\n",
    "rx3.add_reception(time=0.0,location=rx3_location,transmitter=txA)\n",
    "\n",
    "rx4=Receiver()\n",
    "rx4.name='4'\n",
    "rx4.add_reception(time=0.0,location=rx4_location,transmitter=txB)\n",
    "\n",
    "shf=fs.FoxSheaf(rx_types,[rx1,rx2,rx3,rx4])"
   ]
  },
  {
   "cell_type": "markdown",
   "metadata": {},
   "source": [
    "Partial order of this sheaf"
   ]
  },
  {
   "cell_type": "code",
   "execution_count": 4,
   "metadata": {},
   "outputs": [
    {
     "data": {
      "text/plain": [
       "([], <a list of 0 Text yticklabel objects>)"
      ]
     },
     "execution_count": 4,
     "metadata": {},
     "output_type": "execute_result"
    },
    {
     "data": {
      "image/png": "[encoded data removed]",
      "text/plain": [
       "<Figure size 432x288 with 1 Axes>"
      ]
     },
     "metadata": {},
     "output_type": "display_data"
    }
   ],
   "source": [
    "pos=nx.nx_agraph.pygraphviz_layout(shf,prog='dot',args='-Grankdir=BT')\n",
    "nx.draw_networkx_labels(shf,pos)\n",
    "nx.draw_networkx_edges(shf,pos)\n",
    "plt.xticks([])\n",
    "plt.yticks([])"
   ]
  },
  {
   "cell_type": "markdown",
   "metadata": {},
   "source": [
    "Consistency radius, and the optimal assignment that realizes it"
   ]
  },
  {
   "cell_type": "code",
   "execution_count": 5,
   "metadata": {},
   "outputs": [
    {
     "name": "stdout",
     "output_type": "stream",
     "text": [
      "Consistency radius of optimized extension : 0.0849891554247013\n",
      "Fox location : [0.51313771 0.99777111 1.30313536]\n",
      "Optimized extension : \n",
      " Cell: 0 : [0.51313771 0.99777111 1.30313536]\n",
      " Cell: 1 : [0.51306771 0.99766061]\n",
      " Cell: 2 : [0.51035814 0.99767237 1.00724522 0.00389871]\n",
      " Cell: 3 : [  1.           0.         -26.56505118]\n",
      " Cell: 4 : [0.5128205  0.99912878 0.99990114 0.99913101]\n",
      " Cell: 5 : [  1.   1. -90.]\n",
      " Cell: 6 : [0.51291805 0.99493659 0.00501889 0.01004292 1.30624342]\n",
      " Cell: 7 : [0.         0.         0.15915494]\n",
      " Cell: 8 : [ 0.51643198  0.99911514 -0.01196763  0.48869592  1.30133333]\n",
      " Cell: 9 : [0.         0.5        0.15915494]\n"
     ]
    }
   ],
   "source": [
    "shf.FuseAssignment()\n",
    "\n",
    "print('Consistency radius of optimized extension : {}'.format(shf.ComputeConsistencyRadius()))\n",
    "print('Fox location : {}'.format(shf.GetCell(0).mDataAssignment.mValue))\n",
    "\n",
    "print('Optimized extension : ')\n",
    "for ac in shf.GetCellIndexList():\n",
    "    print(' Cell: {} : {}'.format(ac,shf.GetCell(ac).mDataAssignment.mValue))"
   ]
  },
  {
   "cell_type": "markdown",
   "metadata": {},
   "source": [
    "Compute consistency filtration.  Thresholds were hand-tuned to keep the output reasonable.  But you can put in any thresholds you like -- start fairly fine, and then throw out thresholds until something more reasonable is obtained."
   ]
  },
  {
   "cell_type": "code",
   "execution_count": 6,
   "metadata": {},
   "outputs": [],
   "source": [
    "thresholds=[0.00001,0.00002,0.0001,0.0005,0.001,0.01,0.035,0.04,0.05,0.06,0.07,0.08,0.09]"
   ]
  },
  {
   "cell_type": "code",
   "execution_count": 7,
   "metadata": {},
   "outputs": [],
   "source": [
    "consistency_filtration=shf.ConsistencyFiltration(thresholds)"
   ]
  },
  {
   "cell_type": "markdown",
   "metadata": {},
   "source": [
    "The output of the consistency filtration is a `frozenset` of cell labels in the open set, followed by the minimum and maximum thresholds over which that open set is present.  The minimum threshold is just above the local consistency radius of that open set. The maximum threshold is the threshold above which that open set is contained in some larger open set that's also consistent to that level.\n",
    "\n",
    "The open sets listed are all connected open sets in the Alexandrov topology of the partial order.  I've found that connectivity leads to open sets that are much easier to interpret."
   ]
  },
  {
   "cell_type": "markdown",
   "metadata": {},
   "source": [
    "In order to render the consistency filtration, it's useful to encode it as a NetworkX directed graph in which the nodes are open sets and the edges are inclusion relations"
   ]
  },
  {
   "cell_type": "code",
   "execution_count": 8,
   "metadata": {},
   "outputs": [],
   "source": [
    "G=nx.DiGraph()\n",
    "pos=dict()\n",
    "labels=dict()\n",
    "for o,b,d in consistency_filtration:\n",
    "    G.add_node(o)\n",
    "    labels[o]=str(list(o))\n",
    "for o1,b1,d1 in consistency_filtration:\n",
    "    for o2,b2,d2 in consistency_filtration:\n",
    "        if o2 != o1 and set(o1).issubset(o2):\n",
    "            G.add_edge(o1,o2)\n",
    "\n",
    "G2=nx.algorithms.dag.transitive_reduction(G)"
   ]
  },
  {
   "cell_type": "markdown",
   "metadata": {},
   "source": [
    "Now, let's render it.  Initial positions are chosen by GraphViz, but then they're tweaked so that they're in terms of local consistency radius"
   ]
  },
  {
   "cell_type": "code",
   "execution_count": 9,
   "metadata": {},
   "outputs": [
    {
     "data": {
      "text/plain": [
       "([], <a list of 0 Text xticklabel objects>)"
      ]
     },
     "execution_count": 9,
     "metadata": {},
     "output_type": "execute_result"
    },
    {
     "data": {
      "image/png": "[encoded data removed]",
      "text/plain": [
       "<Figure size 432x288 with 1 Axes>"
      ]
     },
     "metadata": {
      "needs_background": "light"
     },
     "output_type": "display_data"
    }
   ],
   "source": [
    "pos=nx.nx_agraph.pygraphviz_layout(G2,prog='dot',args='-Grankdir=BT')\n",
    "for o,b,d in consistency_filtration:\n",
    "    pos[o]=np.array([pos[o][0],b])\n",
    "nx.draw_networkx_labels(G2,pos,labels=labels)\n",
    "nx.draw_networkx_edges(G2,pos)\n",
    "plt.ylabel('Local consistency radius')\n",
    "plt.xticks([])"
   ]
  }
 ],
 "metadata": {
  "kernelspec": {
   "display_name": "Python 3",
   "language": "python",
   "name": "python3"
  },
  "language_info": {
   "codemirror_mode": {
    "name": "ipython",
    "version": 3
   },
   "file_extension": ".py",
   "mimetype": "text/x-python",
   "name": "python",
   "nbconvert_exporter": "python",
   "pygments_lexer": "ipython3",
   "version": "3.5.2"
  }
 },
 "nbformat": 4,
 "nbformat_minor": 2
}
