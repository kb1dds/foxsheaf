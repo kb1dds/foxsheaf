{
 "cells": [
  {
   "cell_type": "markdown",
   "metadata": {},
   "source": [
    "# The basics of creating fox hunting sheaves\n",
    "(c) 2019 Michael Robinson"
   ]
  },
  {
   "cell_type": "markdown",
   "metadata": {},
   "source": [
    "Importing the essentials"
   ]
  },
  {
   "cell_type": "code",
   "execution_count": 1,
   "metadata": {},
   "outputs": [],
   "source": [
    "import numpy as np\n",
    "import matplotlib.pyplot as plt\n",
    "import pysheaf as ps\n",
    "import networkx as nx"
   ]
  },
  {
   "cell_type": "markdown",
   "metadata": {},
   "source": [
    "Importing the fox hunting sheaf library and the simulator"
   ]
  },
  {
   "cell_type": "code",
   "execution_count": 2,
   "metadata": {},
   "outputs": [],
   "source": [
    "import fox_sheaf\n",
    "import generate_data"
   ]
  },
  {
   "cell_type": "markdown",
   "metadata": {},
   "source": [
    "Here is the fox (at the origin) and one receiver.  For simplicity, let's say that the receiver makes perfect measurements"
   ]
  },
  {
   "cell_type": "code",
   "execution_count": 3,
   "metadata": {},
   "outputs": [],
   "source": [
    "fox = generate_data.Transmitter(location=np.array([0.,0.]),power=1.0,identity='A')\n",
    "rx1 = generate_data.Receiver()"
   ]
  },
  {
   "cell_type": "markdown",
   "metadata": {},
   "source": [
    "Let's create a sheaf for a single bearing measurement of the fox"
   ]
  },
  {
   "cell_type": "code",
   "execution_count": 4,
   "metadata": {},
   "outputs": [],
   "source": [
    "bearing_sheaf=fox_sheaf.FoxSheaf(['bearing'],[rx1])"
   ]
  },
  {
   "cell_type": "markdown",
   "metadata": {},
   "source": [
    "Here's a plot of the partial order that the sheaf is based upon"
   ]
  },
  {
   "cell_type": "code",
   "execution_count": 5,
   "metadata": {},
   "outputs": [
    {
     "data": {
      "text/plain": [
       "([], <a list of 0 Text yticklabel objects>)"
      ]
     },
     "execution_count": 5,
     "metadata": {},
     "output_type": "execute_result"
    },
    {
     "data": {
      "image/png": "[encoded data removed]",
      "text/plain": [
       "<Figure size 432x288 with 1 Axes>"
      ]
     },
     "metadata": {},
     "output_type": "display_data"
    }
   ],
   "source": [
    "pos=nx.nx_agraph.pygraphviz_layout(bearing_sheaf,prog='dot',args='-Grankdir=BT')\n",
    "nx.draw_networkx_labels(bearing_sheaf,pos)\n",
    "nx.draw_networkx_edges(bearing_sheaf,pos)\n",
    "plt.xticks([])\n",
    "plt.yticks([])"
   ]
  },
  {
   "cell_type": "markdown",
   "metadata": {},
   "source": [
    "It is pretty boring, because `FoxSheaf` builds out reception reports, not just receivers!  \n",
    "\n",
    "The cell labeled `0` is the virtual observation containg all data about the fox, while `1` contains the fox location only "
   ]
  },
  {
   "cell_type": "markdown",
   "metadata": {},
   "source": [
    "Now let's add some data!  To that end, we need the simulator to generate `ReceptionReports` for us.  We format this into a small assignment in which the receiver is getting a bearing consistent with a proposed location of the fox"
   ]
  },
  {
   "cell_type": "code",
   "execution_count": 6,
   "metadata": {},
   "outputs": [],
   "source": [
    "rx1.add_reception(location=np.array([1,0]),time=0.,transmitter=fox)\n",
    "bearing_sheaf=fox_sheaf.FoxSheaf(['bearing'],[rx1])"
   ]
  },
  {
   "cell_type": "markdown",
   "metadata": {},
   "source": [
    "Plotting again.  Now we have additionally a cell `2` that contains all the data about the receiver and the fox (a virtual observation) and `3`, containing data about just the reception report itself"
   ]
  },
  {
   "cell_type": "code",
   "execution_count": 7,
   "metadata": {
    "scrolled": true
   },
   "outputs": [
    {
     "data": {
      "text/plain": [
       "([], <a list of 0 Text yticklabel objects>)"
      ]
     },
     "execution_count": 7,
     "metadata": {},
     "output_type": "execute_result"
    },
    {
     "data": {
      "image/png": "[encoded data removed]",
      "text/plain": [
       "<Figure size 432x288 with 1 Axes>"
      ]
     },
     "metadata": {},
     "output_type": "display_data"
    }
   ],
   "source": [
    "pos=nx.nx_agraph.pygraphviz_layout(bearing_sheaf,prog='dot',args='-Grankdir=BT')\n",
    "nx.draw_networkx_labels(bearing_sheaf,pos)\n",
    "nx.draw_networkx_edges(bearing_sheaf,pos)\n",
    "plt.xticks([])\n",
    "plt.yticks([])"
   ]
  },
  {
   "cell_type": "markdown",
   "metadata": {},
   "source": [
    "Here's a readout of all the data at each cell.  PySheaf demands that assignments have types, and it checks the types.  This is not terribly sophisticated, but helps to avoid silly mistakes.  It's helpful here so that you can interpret the stalks"
   ]
  },
  {
   "cell_type": "code",
   "execution_count": 8,
   "metadata": {},
   "outputs": [
    {
     "name": "stdout",
     "output_type": "stream",
     "text": [
      "Cell 0 : Type foxloc_power : Assignment [ 0.69964653 -1.28997481 -1.47981995]\n",
      "Cell 1 : Type foxloc : Assignment [0.04428765 0.42202917]\n",
      "Cell 2 : Type foxloc_rxloc : Assignment [-0.8388512   0.91297251  1.          0.        ]\n",
      "Cell 3 : Type bearing_rxloc : Assignment [  1.   0. -90.]\n"
     ]
    }
   ],
   "source": [
    "for cell in bearing_sheaf.GetCellIndexList():\n",
    "    print('Cell {} : Type {} : Assignment {}'.format(cell,bearing_sheaf.GetCell(cell).mDataTagType,bearing_sheaf.GetCell(cell).mDataAssignment))"
   ]
  },
  {
   "cell_type": "markdown",
   "metadata": {},
   "source": [
    "Wait!  Why is the assignment random garbage for the fox location?  Oh right, we haven't told the `FoxSheaf` constructor about the fox.  Indeed, the `FoxSheaf` constructor pre-fills all virtual observations with random values, so that the optimizers can start from a random initial guess."
   ]
  },
  {
   "cell_type": "markdown",
   "metadata": {},
   "source": [
    "So let's temporarily put the fox location into the assignment. We'll mark this as a true observation so that PySheaf doesn't change it"
   ]
  },
  {
   "cell_type": "code",
   "execution_count": 9,
   "metadata": {},
   "outputs": [],
   "source": [
    "bearing_sheaf.GetCell(1).SetDataAssignment(ps.Assignment('foxloc',np.array([0,0])))\n",
    "bearing_sheaf.GetCell(1).mOptimizationCell = False"
   ]
  },
  {
   "cell_type": "markdown",
   "metadata": {},
   "source": [
    "Propagate the assignment out to the virtual observations with the `FuseAssignment()` method"
   ]
  },
  {
   "cell_type": "code",
   "execution_count": 10,
   "metadata": {},
   "outputs": [
    {
     "data": {
      "text/plain": [
       "     fun: 1.8474747051068568e-05\n",
       "     jac: array([-4.05774588e-01, -5.71800908e-02,  0.00000000e+00,  4.05013959e-02,\n",
       "       -5.26225467e+01, -8.80493858e-01,  5.25063208e+01])\n",
       " message: 'Optimization terminated successfully.'\n",
       "    nfev: 392\n",
       "     nit: 37\n",
       "    njev: 37\n",
       "  status: 0\n",
       " success: True\n",
       "       x: array([-8.91573099e-06, -2.81338848e-06, -1.47981995e+00, -4.10142854e-06,\n",
       "       -8.88625058e-06,  9.99994503e-01, -8.92309974e-06])"
      ]
     },
     "execution_count": 10,
     "metadata": {},
     "output_type": "execute_result"
    }
   ],
   "source": [
    "bearing_sheaf.FuseAssignment()"
   ]
  },
  {
   "cell_type": "markdown",
   "metadata": {},
   "source": [
    "OK, now what's the consistency radius?  It should be small!"
   ]
  },
  {
   "cell_type": "code",
   "execution_count": 11,
   "metadata": {},
   "outputs": [
    {
     "data": {
      "text/plain": [
       "1.8474747051068568e-05"
      ]
     },
     "execution_count": 11,
     "metadata": {},
     "output_type": "execute_result"
    }
   ],
   "source": [
    "bearing_sheaf.ComputeConsistencyRadius()"
   ]
  },
  {
   "cell_type": "code",
   "execution_count": 12,
   "metadata": {},
   "outputs": [
    {
     "name": "stdout",
     "output_type": "stream",
     "text": [
      "Cell 0 : Type foxloc_power : Assignment [-8.91573099e-06 -2.81338848e-06 -1.47981995e+00]\n",
      "Cell 1 : Type foxloc : Assignment [0 0]\n",
      "Cell 2 : Type foxloc_rxloc : Assignment [-4.10142854e-06 -8.88625058e-06  9.99994503e-01 -8.92309974e-06]\n",
      "Cell 3 : Type bearing_rxloc : Assignment [  1.   0. -90.]\n"
     ]
    }
   ],
   "source": [
    "for cell in bearing_sheaf.GetCellIndexList():\n",
    "    print('Cell {} : Type {} : Assignment {}'.format(cell,bearing_sheaf.GetCell(cell).mDataTagType,bearing_sheaf.GetCell(cell).mDataAssignment))"
   ]
  },
  {
   "cell_type": "markdown",
   "metadata": {},
   "source": [
    "Let's change the bearing and see what happens...  The stalk over the bearing reception report consists of a vector of `[receiver x, receiver y, bearing]`"
   ]
  },
  {
   "cell_type": "code",
   "execution_count": 13,
   "metadata": {},
   "outputs": [
    {
     "data": {
      "text/plain": [
       "15.945924122223918"
      ]
     },
     "execution_count": 13,
     "metadata": {},
     "output_type": "execute_result"
    }
   ],
   "source": [
    "bearing_sheaf.GetCell(3).SetDataAssignment(ps.Assignment('bearing_rxloc',np.array([1.0,0.0, 45])))\n",
    "bearing_sheaf.FuseAssignment()\n",
    "bearing_sheaf.ComputeConsistencyRadius()"
   ]
  },
  {
   "cell_type": "markdown",
   "metadata": {},
   "source": [
    "The consistency radius is now substantially larger.  It's not 45 degrees, because the optimizer in `FuseAssignment()` tried moving the fox transmitter a bit, as the following shows!"
   ]
  },
  {
   "cell_type": "code",
   "execution_count": 14,
   "metadata": {},
   "outputs": [
    {
     "name": "stdout",
     "output_type": "stream",
     "text": [
      "Cell 0 : Type foxloc_power : Assignment [ -5.99084179 -10.85048887  -1.47981995]\n",
      "Cell 1 : Type foxloc : Assignment [0 0]\n",
      "Cell 2 : Type foxloc_rxloc : Assignment [-5.81063651 -0.09982078 -5.81077351 -0.09995769]\n",
      "Cell 3 : Type bearing_rxloc : Assignment [ 1.  0. 45.]\n"
     ]
    }
   ],
   "source": [
    "for cell in bearing_sheaf.GetCellIndexList():\n",
    "    print('Cell {} : Type {} : Assignment {}'.format(cell,bearing_sheaf.GetCell(cell).mDataTagType,bearing_sheaf.GetCell(cell).mDataAssignment))"
   ]
  },
  {
   "cell_type": "markdown",
   "metadata": {},
   "source": [
    "Let's create a sheaf for a single Received Signal Strength Indication (RSSI) measurement of the fox.  The partial order does not look the same as before, because this measurement requires knowledge of the fox transmitter power."
   ]
  },
  {
   "cell_type": "code",
   "execution_count": 15,
   "metadata": {},
   "outputs": [
    {
     "data": {
      "text/plain": [
       "([], <a list of 0 Text yticklabel objects>)"
      ]
     },
     "execution_count": 15,
     "metadata": {},
     "output_type": "execute_result"
    },
    {
     "data": {
      "image/png": "[encoded data removed]",
      "text/plain": [
       "<Figure size 432x288 with 1 Axes>"
      ]
     },
     "metadata": {},
     "output_type": "display_data"
    }
   ],
   "source": [
    "rssi_sheaf=fox_sheaf.FoxSheaf(['rssi'],[rx1])\n",
    "pos=nx.nx_agraph.pygraphviz_layout(rssi_sheaf,prog='dot',args='-Grankdir=BT')\n",
    "nx.draw_networkx_labels(rssi_sheaf,pos)\n",
    "nx.draw_networkx_edges(rssi_sheaf,pos)\n",
    "plt.xticks([])\n",
    "plt.yticks([])"
   ]
  },
  {
   "cell_type": "markdown",
   "metadata": {},
   "source": [
    "Here is a larger sheaf consisting of two bearing and two RSSI measurements.  Just for simplicity, we'll let four new `Receiver`s get the data for us"
   ]
  },
  {
   "cell_type": "code",
   "execution_count": 16,
   "metadata": {},
   "outputs": [
    {
     "data": {
      "text/plain": [
       "([], <a list of 0 Text yticklabel objects>)"
      ]
     },
     "execution_count": 16,
     "metadata": {},
     "output_type": "execute_result"
    },
    {
     "data": {
      "image/png": "[encoded data removed]",
      "text/plain": [
       "<Figure size 432x288 with 1 Axes>"
      ]
     },
     "metadata": {},
     "output_type": "display_data"
    }
   ],
   "source": [
    "fox=generate_data.Transmitter(location=np.array([0.5,0.5]),power=1.0,identity='A')\n",
    "rx1=generate_data.Receiver()\n",
    "rx1.add_reception(time=0.0,location=np.array([1,0]),transmitter=fox)\n",
    "rx2=generate_data.Receiver()\n",
    "rx2.add_reception(time=0.0,location=np.array([1,1]),transmitter=fox)\n",
    "rx3=generate_data.Receiver()\n",
    "rx3.add_reception(time=0.0,location=np.array([0,0]),transmitter=fox)\n",
    "rx4=generate_data.Receiver()\n",
    "rx4.add_reception(time=0.0,location=np.array([0,0.5]),transmitter=fox)\n",
    "\n",
    "hunting_sheaf=fox_sheaf.FoxSheaf(['bearing','bearing','rssi','rssi'],[rx1,rx2,rx3,rx4])\n",
    "pos=nx.nx_agraph.pygraphviz_layout(hunting_sheaf,prog='dot',args='-Grankdir=BT')\n",
    "nx.draw_networkx_labels(hunting_sheaf,pos)\n",
    "nx.draw_networkx_edges(hunting_sheaf,pos)\n",
    "plt.xticks([])\n",
    "plt.yticks([])"
   ]
  },
  {
   "cell_type": "markdown",
   "metadata": {},
   "source": [
    "Let's load up a global section"
   ]
  },
  {
   "cell_type": "code",
   "execution_count": 17,
   "metadata": {},
   "outputs": [
    {
     "data": {
      "text/plain": [
       "0.0018896046913778324"
      ]
     },
     "execution_count": 17,
     "metadata": {},
     "output_type": "execute_result"
    }
   ],
   "source": [
    "hunting_sheaf.GetCell(0).SetDataAssignment(ps.Assignment('foxloc_power',np.array([0.5,0.5,1.0])))\n",
    "hunting_sheaf.GetCell(1).SetDataAssignment(ps.Assignment('foxloc',np.array([0.5,0.5])))\n",
    "hunting_sheaf.GetCell(2).SetDataAssignment(ps.Assignment('foxloc_rxloc',np.array([0.5,0.5,1,0])))\n",
    "hunting_sheaf.GetCell(3).SetDataAssignment(ps.Assignment('bearing_rxloc',np.array([1,0,-45])))\n",
    "hunting_sheaf.GetCell(4).SetDataAssignment(ps.Assignment('foxloc_rxloc',np.array([0.5,0.5,1,1])))\n",
    "hunting_sheaf.GetCell(5).SetDataAssignment(ps.Assignment('bearing_rxloc',np.array([1,1,-135])))\n",
    "hunting_sheaf.GetCell(6).SetDataAssignment(ps.Assignment('foxloc_power_rxloc',np.array([0.5,0.5,0,0,1])))\n",
    "hunting_sheaf.GetCell(7).SetDataAssignment(ps.Assignment('rssi_rxloc',np.array([0,0,0.16])))\n",
    "hunting_sheaf.GetCell(8).SetDataAssignment(ps.Assignment('foxloc_power_rxloc',np.array([0.5,0.5,0.5,1,1])))\n",
    "hunting_sheaf.GetCell(9).SetDataAssignment(ps.Assignment('rssi_rxloc',np.array([0.5,1,0.32])))\n",
    "\n",
    "for c in hunting_sheaf.GetCellIndexList(): hunting_sheaf.MaximallyExtendCell(c) \n",
    "hunting_sheaf.ComputeConsistencyRadius()"
   ]
  },
  {
   "cell_type": "markdown",
   "metadata": {},
   "source": [
    "Its consistency radius is small, but not zero, due to roundoff error"
   ]
  }
 ],
 "metadata": {
  "kernelspec": {
   "display_name": "Python 3",
   "language": "python",
   "name": "python3"
  },
  "language_info": {
   "codemirror_mode": {
    "name": "ipython",
    "version": 3
   },
   "file_extension": ".py",
   "mimetype": "text/x-python",
   "name": "python",
   "nbconvert_exporter": "python",
   "pygments_lexer": "ipython3",
   "version": "3.5.2"
  }
 },
 "nbformat": 4,
 "nbformat_minor": 2
}
